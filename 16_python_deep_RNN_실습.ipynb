{
 "cells": [
  {
   "cell_type": "markdown",
   "metadata": {
    "colab_type": "text",
    "id": "KQQ1JR2JWZE2"
   },
   "source": [
    "#딥러닝 24강 RNN(4)\n"
   ]
  },
  {
   "cell_type": "markdown",
   "metadata": {
    "colab_type": "text",
    "id": "4q5YWz7a2TWc"
   },
   "source": [
    "## 1. 실습을 위한 환경구성\n",
    "- Google Colaboratory 사용\n",
    "- Keras 사용"
   ]
  },
  {
   "cell_type": "markdown",
   "metadata": {
    "colab_type": "text",
    "id": "yyPyhr1kWiRO"
   },
   "source": [
    "### (1) Google Colaboratory?\n",
    "- 구글이 회사 내부에서 이용하고 있던 주피터 노트북을 연구와 교육 \n",
    "  목적으로 커스텀 하여 개발한 툴, 즉 주피터 노트북의 구글 커스텀 \n",
    "  버전이다(2017년10월 공개)\n",
    "- Colaboratory는 텍스트, 코드, 코드 출력을 하나의 공동작업 분서로\n",
    "  통합해 주는 머신러닝 교육과 연구를 위한 데이터 분석 도구. \n",
    "- Jupyter notebook 환경이므로 설치 없이도 사용 가능, 또한 컴퓨터에\n",
    "  브라우저 외에 다른 프로그램을 다운로드, 설치, 실행하지 않고도\n",
    "  jupyter notebook을 사용하고 다른 사용자와 매우 편리하게 공유할\n",
    "  수 있음.\n",
    "\n"
   ]
  },
  {
   "cell_type": "markdown",
   "metadata": {
    "colab_type": "text",
    "id": "eFgIW0GnsCW-"
   },
   "source": [
    "![대체 텍스트](https://i.imgur.com/yTNpXA9.png)"
   ]
  },
  {
   "cell_type": "markdown",
   "metadata": {
    "colab_type": "text",
    "id": "koZSiu3cm0QX"
   },
   "source": [
    "- 웹 브라우저 환경에서 도커로 구글 서버에 접속하여 작업을 할 수 있도\n",
    "  록 개발. 대부분의 주요 브라우저와 호환되지만, 구글에서 개발하였기\n",
    "  때문에 데스크톱 버전의 Chrome 및 Firefox를 대상으로 가장 꼼꼼한\n",
    "  테스트가 이루어짐\n",
    "- 구글 계정만 있으면 누구나 무료로 사용할 수 있음\n",
    "- 현재 지원하는 언어는 Python 2.7, 3.6\n",
    "- Colaboratory에서 실행된 코드는 본인의 구글 계정 전용의 가상\n",
    "  머신에서 실행. 가상 머신은 한동안 유휴상태가 되면 시스템\n",
    "  리소스 확보를 위해 재활용되며 시스템에 의해 최대 수명으로 실행\n"
   ]
  },
  {
   "cell_type": "markdown",
   "metadata": {
    "colab_type": "text",
    "id": "nHEnlXUwn5zu"
   },
   "source": [
    "### (2) Google Colaboratory 실행방법\n"
   ]
  },
  {
   "cell_type": "markdown",
   "metadata": {
    "colab_type": "text",
    "id": "U7nZuDbL2gw4"
   },
   "source": [
    "#### 1) https://colab.research.google.com/로 접속시 사용 가능\n",
    "![대체 텍스트](https://i.imgur.com/YCDWb6R.png)"
   ]
  },
  {
   "cell_type": "markdown",
   "metadata": {
    "colab_type": "text",
    "id": "90T3LU5poHjm"
   },
   "source": [
    "#### 2) Google Drive안에서 실행\n",
    " ![대체 텍스트](https://i.imgur.com/GCTAUo8.png)\n",
    " - 연결할 앱 더보기를 클릭, COLABORATORY 검색하여 추가"
   ]
  },
  {
   "cell_type": "markdown",
   "metadata": {
    "colab_type": "text",
    "id": "AMZEfYbErGh-"
   },
   "source": [
    " ![대체 텍스트](https://i.imgur.com/Ju5Dvad.png)"
   ]
  },
  {
   "cell_type": "markdown",
   "metadata": {
    "colab_type": "text",
    "id": "r3qUovcSrpUV"
   },
   "source": [
    "### (3) Google Colaboratory UI  \n",
    "- https://colab.research.google.com/ 로 접속하면 아래와 같은 화면이\n",
    "  보임. 간단한 튜토리얼, 매뉴얼 등이 있음\n",
    "- 목차 : 해당 노트북의 목차\n",
    "- 코드 스니펫 : 재사용 가능한 소스 코드로 다양한 예제 코드가 있음\n",
    "![대체 텍스트](https://i.imgur.com/NpG46Q7.png)"
   ]
  },
  {
   "cell_type": "markdown",
   "metadata": {
    "colab_type": "text",
    "id": "OnZ8eTMKtTk3"
   },
   "source": [
    "### (4) Google Colaboratory GPU 설정\n",
    "- 런타임 유형 변경에서 GPU 사용 모드로 변경 가능\n",
    "- GPU를 사용하기 위해 필요한 모듈 설치 불필요. 도커형태로 환경 구성  \n",
    "  이 이미 되어있음.\n",
    "  ![대체 텍스트](https://i.imgur.com/YRdCwHP.png)  "
   ]
  },
  {
   "cell_type": "markdown",
   "metadata": {
    "colab_type": "text",
    "id": "UtnIr7Uctohu"
   },
   "source": [
    "### (5) Google Colaboratory Python note 실행\n",
    "- 새 note 실행 후, 코드를 작성해 보자!\n",
    "![대체 텍스트](https://i.imgur.com/YfHZmw2.png)"
   ]
  },
  {
   "cell_type": "markdown",
   "metadata": {
    "colab_type": "text",
    "id": "A9rUAKeLqkB9"
   },
   "source": [
    "### 텍스트 추가 실습"
   ]
  },
  {
   "cell_type": "code",
   "execution_count": 0,
   "metadata": {
    "colab": {},
    "colab_type": "code",
    "id": "MioVHBxXqviZ"
   },
   "outputs": [],
   "source": []
  },
  {
   "cell_type": "code",
   "execution_count": 16,
   "metadata": {
    "colab": {
     "base_uri": "https://localhost:8080/",
     "height": 53
    },
    "colab_type": "code",
    "executionInfo": {
     "elapsed": 866,
     "status": "ok",
     "timestamp": 1545964641720,
     "user": {
      "displayName": "윤경구",
      "photoUrl": "",
      "userId": "01938000542747719628"
     },
     "user_tz": -540
    },
    "id": "ZIaHTfsUZ81t",
    "outputId": "d36b748f-aaff-4a1b-8284-75c74a43248d"
   },
   "outputs": [
    {
     "name": "stdout",
     "output_type": "stream",
     "text": [
      "hello, colaboratory\n",
      "tensorflow version: 1.12.0\n"
     ]
    }
   ],
   "source": [
    "# 간단하게 테스트 실행. 설치된 텐서플로 버전을 출력.\n",
    "import tensorflow as tf\n",
    "\n",
    "print('hello, colaboratory')\n",
    "print('tensorflow version:', tf.__version__)"
   ]
  },
  {
   "cell_type": "markdown",
   "metadata": {
    "colab_type": "text",
    "id": "GjFcpsgobVCU"
   },
   "source": [
    "## Keras: The Python Deep Learning library\n",
    "\n",
    "![대체 텍스트](https://s3.amazonaws.com/keras.io/img/keras-logo-2018-large-1200.png)\n",
    "https://keras.io\n",
    "\n",
    "Keras is a high-level neural networks API,\n",
    "\n",
    "__written in Python__ and capable of running on top of __TensorFlow__, CNTK, or Theano. \n",
    "\n",
    "It was developed with a focus on __enabling fast experimentation__. \n",
    "\n",
    "Being able to go from idea to result with the least possible delay is key to doing good research.\n",
    "\n",
    "Use Keras if you need a deep learning library that:\n",
    "\n",
    "Allows for __easy and fast prototyping__ (through user friendliness, modularity, and extensibility).\n",
    "\n",
    "__Supports both convolutional networks and recurrent networks__, as well as combinations of the two.\n",
    "\n",
    "Runs seamlessly on CPU and GPU.\n",
    "\n",
    "Read the documentation at Keras.io.\n",
    "\n",
    "Keras is compatible with: Python 2.7-3.6."
   ]
  },
  {
   "cell_type": "markdown",
   "metadata": {
    "colab_type": "text",
    "id": "r7IAw0Pgt-3f"
   },
   "source": [
    "## 2. 간단한 RNN 실습"
   ]
  },
  {
   "cell_type": "markdown",
   "metadata": {
    "colab_type": "text",
    "id": "OgeJ-5Z3vUrR"
   },
   "source": [
    "###(1) Keras에서 신경망 모델\n",
    "- Sequential 클래스 객체인 모델을 선택\n",
    " - 일렬로 신경망을 쌓아가는 형태의 모델\n",
    " - Keras의 모델은 신경망 계층(layer)들을 쌓는 방법을 지정한다.\n",
    " - 기본적인 형태는 대부분 Sequential 모델을 사용하고, 복잡한 형태의 경우 Model 클래스를 사용할 수 있다.\n",
    "- add 메서드로 Sequential 모델 안에 다양한 레이어 추가\n",
    "- compile 메서드로 목적함수 및 최적화 방법 지정\n",
    " - 학습 과정에 관련된 정보들을 설정\n",
    " - 예를 들어 비용 함수나 최적화 방법 등\n",
    "- fit 메서드로 가중치 계산\n",
    " - 실제 트레이닝을 실행\n"
   ]
  },
  {
   "cell_type": "markdown",
   "metadata": {
    "colab_type": "text",
    "id": "wSoNItNKlef9"
   },
   "source": [
    "### (2) 전체학습코드\n",
    "RNN을 사용하여 sine 함수를 학습하고 예측하는 실습\n",
    "\n",
    "전체 코드를 통해 구성을 본 다음 부분별로 상세하게 분석해보자."
   ]
  },
  {
   "cell_type": "code",
   "execution_count": 0,
   "metadata": {
    "colab": {},
    "colab_type": "code",
    "id": "-EU-aCX6nGOV"
   },
   "outputs": [],
   "source": [
    "# 1. 필요한 라이브러리 import\n",
    "import numpy as np\n",
    "from keras.models import Sequential\n",
    "from keras.layers import Dense, Activation, CuDNNLSTM, TimeDistributed\n",
    "from keras.utils import np_utils\n",
    "\n",
    "# 2. 데이터 생성 및 전처리\n",
    "data = \"easyrnn\"\n",
    "\n",
    "char_set = list(set(data))  \n",
    "char_dic = {w: i for i, w in enumerate(char_set)}\n",
    "\n",
    "x_str = data[:-1]\n",
    "y_str = data[1:]\n",
    "\n",
    "input_dim = len(char_set)\n",
    "timesteps = len(y_str)\n",
    "num_classes = len(char_set)\n",
    "\n",
    "print('입력 : ',x_str, '출력 : ',y_str)\n",
    "\n",
    "x = [char_dic[c] for c in x_str]  # char to index\n",
    "y = [char_dic[c] for c in y_str]  # char to index\n",
    "\n",
    "# One-hot 인코딩\n",
    "x = np_utils.to_categorical(x, num_classes=num_classes)\n",
    "print('입력onehot\\n',x)\n",
    "# reshape X to be [samples, time steps, features(input_dim)] 3차원 tensor 형태\n",
    "x = np.reshape(x, (-1, len(x), input_dim))\n",
    "print('입력onehot_3차원\\n',x)\n",
    "print('입력 shape : ', x.shape)\n",
    "\n",
    "# One-hot 인코딩\n",
    "y = np_utils.to_categorical(y, num_classes=num_classes)\n",
    "# time steps\n",
    "y = np.reshape(y, (-1, len(y), input_dim))\n",
    "print('출력 shape : ', y.shape)\n",
    "\n",
    "# 3. 신경망 정의\n",
    "model = Sequential()\n",
    "model.add(CuDNNLSTM(num_classes, input_shape=(timesteps, input_dim), return_sequences=True))\n",
    "model.add(TimeDistributed(Dense(num_classes)))\n",
    "model.add((Dense(num_classes)))\n",
    "model.add(Activation('softmax'))\n",
    "model.summary()\n",
    "\n",
    "# 4. 모델 학습과정 설정\n",
    "model.compile(loss='categorical_crossentropy',\n",
    "              optimizer='Adam', metrics=['accuracy'])\n",
    "\n",
    "# 5. 모델 학습\n",
    "model.fit(x, y, epochs=500) # , steps_per_epoch=100\n",
    "\n",
    "# 6. 모델 TEST\n",
    "predictions = model.predict(x, verbose=0)\n",
    "for i, prediction in enumerate(predictions):\n",
    "    print('예측값\\n', prediction)\n",
    "    \n",
    "    x_index = np.argmax(x[i], axis=1)\n",
    "    x_str = [char_set[j] for j in x_index]\n",
    "    print('입력')\n",
    "    print(x_index, ''.join(x_str))\n",
    "\n",
    "    index = np.argmax(prediction, axis=1)\n",
    "    result = [char_set[j] for j in index]\n",
    "    print('예측')\n",
    "    print(index, ''.join(result))\n"
   ]
  },
  {
   "cell_type": "markdown",
   "metadata": {
    "colab_type": "text",
    "id": "uZQy3iq_rSA2"
   },
   "source": [
    "#### 1) 필요한 library import\n",
    "- np : data처리를 위한 numpy 모듈을 불러온다.\n",
    "- Sequential : 순차형 모델 생성에 필요한 모듈\n",
    "- Dense : 입출력 연결\n",
    "- Activation : 활성함수 모듈\n",
    "- CuDNNLSTM : GPU사용 LSTM 모델\n",
    "- np_utils : one hot 인코딩 모듈"
   ]
  },
  {
   "cell_type": "code",
   "execution_count": 0,
   "metadata": {
    "colab": {},
    "colab_type": "code",
    "id": "nsXBQVtZy-Qo"
   },
   "outputs": [],
   "source": [
    "import numpy as np\n",
    "from keras.models import Sequential\n",
    "from keras.layers import Dense, Activation, CuDNNLSTM\n",
    "from keras.utils import np_utils"
   ]
  },
  {
   "cell_type": "markdown",
   "metadata": {
    "colab_type": "text",
    "id": "xD_D3Lyd_YxY"
   },
   "source": [
    "#### 2) 데이터 생성 및 전처리"
   ]
  },
  {
   "cell_type": "code",
   "execution_count": 0,
   "metadata": {
    "colab": {},
    "colab_type": "code",
    "id": "r5KnWY9y_rEv"
   },
   "outputs": [],
   "source": [
    "# 학습 데이터 (샘플이 하나 뿐이므로 제대로 학습하지 않고 overfit될 것이지만, 여기에서는 케라스를 통한 RNN 실행 코드만 확인하자)\n",
    "\n",
    "data = \"iloveyou\""
   ]
  },
  {
   "cell_type": "code",
   "execution_count": 19,
   "metadata": {
    "colab": {
     "base_uri": "https://localhost:8080/",
     "height": 35
    },
    "colab_type": "code",
    "executionInfo": {
     "elapsed": 897,
     "status": "ok",
     "timestamp": 1545965369269,
     "user": {
      "displayName": "윤경구",
      "photoUrl": "",
      "userId": "01938000542747719628"
     },
     "user_tz": -540
    },
    "id": "cI2ANWpD_y0i",
    "outputId": "c314205a-e2b2-447f-81cb-18ad2008f3b6"
   },
   "outputs": [
    {
     "name": "stdout",
     "output_type": "stream",
     "text": [
      "['e', 'v', 'l', 'y', 'u', 'i', 'o']\n"
     ]
    }
   ],
   "source": [
    "# list와 set활용 data의 unique값 추출\n",
    "char_set = list(set(data))  # set 자료형은 중복을 허용하지않고, 순서가 없다.\n",
    "print(char_set)"
   ]
  },
  {
   "cell_type": "code",
   "execution_count": 20,
   "metadata": {
    "colab": {
     "base_uri": "https://localhost:8080/",
     "height": 35
    },
    "colab_type": "code",
    "executionInfo": {
     "elapsed": 836,
     "status": "ok",
     "timestamp": 1545965405058,
     "user": {
      "displayName": "윤경구",
      "photoUrl": "",
      "userId": "01938000542747719628"
     },
     "user_tz": -540
    },
    "id": "sDnx3m-B_2W5",
    "outputId": "f99812b4-75d3-4494-af79-80ddb5130a08"
   },
   "outputs": [
    {
     "name": "stdout",
     "output_type": "stream",
     "text": [
      "{'e': 0, 'v': 1, 'l': 2, 'y': 3, 'u': 4, 'i': 5, 'o': 6}\n"
     ]
    }
   ],
   "source": [
    "# enumerate 활용 각 str의 index 추출\n",
    "char_dic = {w: i for i, w in enumerate(char_set)}\n",
    "print(char_dic)"
   ]
  },
  {
   "cell_type": "code",
   "execution_count": 21,
   "metadata": {
    "colab": {
     "base_uri": "https://localhost:8080/",
     "height": 53
    },
    "colab_type": "code",
    "executionInfo": {
     "elapsed": 873,
     "status": "ok",
     "timestamp": 1545965440639,
     "user": {
      "displayName": "윤경구",
      "photoUrl": "",
      "userId": "01938000542747719628"
     },
     "user_tz": -540
    },
    "id": "Bhup90EpAPsQ",
    "outputId": "713118a5-102d-4fd4-ac06-b26eadb75226"
   },
   "outputs": [
    {
     "name": "stdout",
     "output_type": "stream",
     "text": [
      "iloveyo\n",
      "loveyou\n"
     ]
    }
   ],
   "source": [
    "# 입력과 출력 data 설정\n",
    "x_str = data[:-1]\n",
    "y_str = data[1:]\n",
    "print(x_str)\n",
    "print(y_str)"
   ]
  },
  {
   "cell_type": "code",
   "execution_count": 22,
   "metadata": {
    "colab": {
     "base_uri": "https://localhost:8080/",
     "height": 71
    },
    "colab_type": "code",
    "executionInfo": {
     "elapsed": 1451,
     "status": "ok",
     "timestamp": 1545965531903,
     "user": {
      "displayName": "윤경구",
      "photoUrl": "",
      "userId": "01938000542747719628"
     },
     "user_tz": -540
    },
    "id": "00nCv0qZBsrm",
    "outputId": "3a772a5a-2c13-4ca5-d8cc-3ed565bf3ce7"
   },
   "outputs": [
    {
     "name": "stdout",
     "output_type": "stream",
     "text": [
      "input_dim :  7\n",
      "timesteps :  7\n",
      "num_classes :  7\n"
     ]
    }
   ],
   "source": [
    "input_dim = len(x_str) # x 벡터의 크기\n",
    "print('input_dim : ', input_dim)\n",
    "timesteps = len(y_str) # 순서열의 길이\n",
    "print('timesteps : ', timesteps)\n",
    "num_classes = len(char_set) # 출력 클래스\n",
    "print('num_classes : ', num_classes)\n"
   ]
  },
  {
   "cell_type": "code",
   "execution_count": 23,
   "metadata": {
    "colab": {
     "base_uri": "https://localhost:8080/",
     "height": 53
    },
    "colab_type": "code",
    "executionInfo": {
     "elapsed": 1430,
     "status": "ok",
     "timestamp": 1545965578630,
     "user": {
      "displayName": "윤경구",
      "photoUrl": "",
      "userId": "01938000542747719628"
     },
     "user_tz": -540
    },
    "id": "n3aaBKPgFOlr",
    "outputId": "b43a2ab6-cf9a-4bbe-c110-93ee96a529d5"
   },
   "outputs": [
    {
     "name": "stdout",
     "output_type": "stream",
     "text": [
      "[5, 2, 6, 1, 0, 3, 6]\n",
      "[2, 6, 1, 0, 3, 6, 4]\n"
     ]
    }
   ],
   "source": [
    "x = [char_dic[c] for c in x_str]  # char to index\n",
    "print(x)\n",
    "y = [char_dic[c] for c in y_str]  # char to index\n",
    "print(y)"
   ]
  },
  {
   "cell_type": "markdown",
   "metadata": {
    "colab_type": "text",
    "id": "5BxYZy3OHAXT"
   },
   "source": [
    "- Keras에서 RNN을 사용하려면 입력데이터(자료의수, 순서열의길이, x벡터의 크기)는 ndim=3인 3차원 tensor 형태이어야 한다"
   ]
  },
  {
   "cell_type": "code",
   "execution_count": 24,
   "metadata": {
    "colab": {
     "base_uri": "https://localhost:8080/",
     "height": 323
    },
    "colab_type": "code",
    "executionInfo": {
     "elapsed": 862,
     "status": "ok",
     "timestamp": 1545965650124,
     "user": {
      "displayName": "윤경구",
      "photoUrl": "",
      "userId": "01938000542747719628"
     },
     "user_tz": -540
    },
    "id": "pUhYgXGtGmfQ",
    "outputId": "ffb6cdcb-8dcf-469b-f0ae-2d2a71a878db"
   },
   "outputs": [
    {
     "name": "stdout",
     "output_type": "stream",
     "text": [
      "입력onehot\n",
      " [[0. 0. 0. 0. 0. 1. 0.]\n",
      " [0. 0. 1. 0. 0. 0. 0.]\n",
      " [0. 0. 0. 0. 0. 0. 1.]\n",
      " [0. 1. 0. 0. 0. 0. 0.]\n",
      " [1. 0. 0. 0. 0. 0. 0.]\n",
      " [0. 0. 0. 1. 0. 0. 0.]\n",
      " [0. 0. 0. 0. 0. 0. 1.]]\n",
      "입력onehot_3차원\n",
      " [[[0. 0. 0. 0. 0. 1. 0.]\n",
      "  [0. 0. 1. 0. 0. 0. 0.]\n",
      "  [0. 0. 0. 0. 0. 0. 1.]\n",
      "  [0. 1. 0. 0. 0. 0. 0.]\n",
      "  [1. 0. 0. 0. 0. 0. 0.]\n",
      "  [0. 0. 0. 1. 0. 0. 0.]\n",
      "  [0. 0. 0. 0. 0. 0. 1.]]]\n",
      "입력 shape :  (1, 7, 7)\n"
     ]
    }
   ],
   "source": [
    "# One-hot 인코딩\n",
    "x = np_utils.to_categorical(x, num_classes=num_classes)\n",
    "print('입력onehot\\n',x)\n",
    "# reshape X to be [samples, time steps, features(input_dim)] 3차원 tensor 형태\n",
    "x = np.reshape(x, (-1, len(x), input_dim))\n",
    "print('입력onehot_3차원\\n',x)\n",
    "print('입력 shape : ', x.shape)"
   ]
  },
  {
   "cell_type": "code",
   "execution_count": 25,
   "metadata": {
    "colab": {
     "base_uri": "https://localhost:8080/",
     "height": 323
    },
    "colab_type": "code",
    "executionInfo": {
     "elapsed": 1454,
     "status": "ok",
     "timestamp": 1545965701845,
     "user": {
      "displayName": "윤경구",
      "photoUrl": "",
      "userId": "01938000542747719628"
     },
     "user_tz": -540
    },
    "id": "hy0Ohg3BG0J4",
    "outputId": "571742f9-79d2-477d-e1f1-c3a52254ffcd"
   },
   "outputs": [
    {
     "name": "stdout",
     "output_type": "stream",
     "text": [
      "출력onehot\n",
      " [[0. 0. 1. 0. 0. 0. 0.]\n",
      " [0. 0. 0. 0. 0. 0. 1.]\n",
      " [0. 1. 0. 0. 0. 0. 0.]\n",
      " [1. 0. 0. 0. 0. 0. 0.]\n",
      " [0. 0. 0. 1. 0. 0. 0.]\n",
      " [0. 0. 0. 0. 0. 0. 1.]\n",
      " [0. 0. 0. 0. 1. 0. 0.]]\n",
      "출력onehot_3차원\n",
      " [[[0. 0. 1. 0. 0. 0. 0.]\n",
      "  [0. 0. 0. 0. 0. 0. 1.]\n",
      "  [0. 1. 0. 0. 0. 0. 0.]\n",
      "  [1. 0. 0. 0. 0. 0. 0.]\n",
      "  [0. 0. 0. 1. 0. 0. 0.]\n",
      "  [0. 0. 0. 0. 0. 0. 1.]\n",
      "  [0. 0. 0. 0. 1. 0. 0.]]]\n",
      "출력 shape :  (1, 7, 7)\n"
     ]
    }
   ],
   "source": [
    "# One-hot 인코딩\n",
    "y = np_utils.to_categorical(y, num_classes=num_classes)\n",
    "print('출력onehot\\n', y)\n",
    "# time steps\n",
    "y = np.reshape(y, (-1, len(y), input_dim))\n",
    "print('출력onehot_3차원\\n',y)\n",
    "print('출력 shape : ', y.shape)"
   ]
  },
  {
   "cell_type": "markdown",
   "metadata": {
    "colab_type": "text",
    "id": "HQL2qucLHhpZ"
   },
   "source": [
    "#### 3) 신경망 정의\n",
    "- 심층 신경망을 만들기위해 Sequential 객체인 model을 정의하고 층층이 쌓는다.\n",
    "- return_sequences=True는 모든 입력에 대해 출력 순서열 중 마지막 값만 출력하는 것이아니라 전체 순서열을 3차원 텐서 형태로 출력하여 sequence-to-sequence 문제로 풀 수 있다. 다만 입력 순서열과 출력 출력 순서열의 크기는 같아야 한다.\n",
    "- 출력마다 Dense를 반복해서 덧붙여야 하므로 TimeDistributed를 사용하여, 3차원 teonsor 입력 받을 수 있게 확장한다"
   ]
  },
  {
   "cell_type": "code",
   "execution_count": 26,
   "metadata": {
    "colab": {
     "base_uri": "https://localhost:8080/",
     "height": 251
    },
    "colab_type": "code",
    "executionInfo": {
     "elapsed": 859,
     "status": "ok",
     "timestamp": 1545965811753,
     "user": {
      "displayName": "윤경구",
      "photoUrl": "",
      "userId": "01938000542747719628"
     },
     "user_tz": -540
    },
    "id": "qIXJKR86IIf9",
    "outputId": "1ed34ffd-5e67-4e4b-a103-1dccdfae45e4"
   },
   "outputs": [
    {
     "name": "stdout",
     "output_type": "stream",
     "text": [
      "_________________________________________________________________\n",
      "Layer (type)                 Output Shape              Param #   \n",
      "=================================================================\n",
      "cu_dnnlstm_2 (CuDNNLSTM)     (None, 7, 7)              448       \n",
      "_________________________________________________________________\n",
      "dense_2 (Dense)              (None, 7, 7)              56        \n",
      "_________________________________________________________________\n",
      "activation_2 (Activation)    (None, 7, 7)              0         \n",
      "=================================================================\n",
      "Total params: 504\n",
      "Trainable params: 504\n",
      "Non-trainable params: 0\n",
      "_________________________________________________________________\n"
     ]
    }
   ],
   "source": [
    "model = Sequential()\n",
    "model.add(CuDNNLSTM(num_classes, input_shape=(timesteps, input_dim), return_sequences=True))\n",
    "model.add((Dense(num_classes)))\n",
    "model.add(Activation('softmax'))\n",
    "model.summary() # 만들어진 구조 요약"
   ]
  },
  {
   "cell_type": "code",
   "execution_count": 27,
   "metadata": {
    "colab": {
     "base_uri": "https://localhost:8080/",
     "height": 125
    },
    "colab_type": "code",
    "executionInfo": {
     "elapsed": 1816,
     "status": "ok",
     "timestamp": 1545965907442,
     "user": {
      "displayName": "윤경구",
      "photoUrl": "",
      "userId": "01938000542747719628"
     },
     "user_tz": -540
    },
    "id": "aaXa41RkQo9P",
    "outputId": "a9dcc778-f8d2-4395-d9c0-49f0ca2bb0dd"
   },
   "outputs": [
    {
     "name": "stdout",
     "output_type": "stream",
     "text": [
      "input shape: (None, 7, 7)\n",
      "output shape: (None, 7, 7)\n",
      "input shape: (None, 7, 7)\n",
      "output shape: (None, 7, 7)\n",
      "input shape: (None, 7, 7)\n",
      "output shape: (None, 7, 7)\n"
     ]
    }
   ],
   "source": [
    "# model에 포함된 각 layer별 shape 확인\n",
    "for l in model.layers :\n",
    "  print('input shape:', l.input_shape)\n",
    "  print('output shape:', l.output_shape)"
   ]
  },
  {
   "cell_type": "markdown",
   "metadata": {
    "colab_type": "text",
    "id": "zmegfYZON0ad"
   },
   "source": [
    "#### 4) 모델 학습과정 설정\n",
    "- 모델의 Loss function으로 멀티 레이블 예측에 적합한 \n",
    "  범주형 크로스 엔트로피 함수를 사용한다.\n",
    "- 최적화방법으로 Adam Optimizer를 사용, Learning rate는 0.001로 default다.\n",
    "- 모델 평가 항목(Metric)으로 Accuracy(Y값을 정확히 예측한 비율)를 사용한다."
   ]
  },
  {
   "cell_type": "code",
   "execution_count": 0,
   "metadata": {
    "colab": {},
    "colab_type": "code",
    "id": "_fZdvUfENnXc"
   },
   "outputs": [],
   "source": [
    "# model에 사용되는 학습 관련 파라미터 및 정보 설정\n",
    "\n",
    "model.compile(loss='categorical_crossentropy',\n",
    "              optimizer='Adam', metrics=['accuracy'])\n"
   ]
  },
  {
   "cell_type": "markdown",
   "metadata": {
    "colab_type": "text",
    "id": "aO5EMrQ4Ps5R"
   },
   "source": [
    "#### 5) 모델학습\n",
    "- 모델을 학습시키기 위해서 model.fit 함수를 사용한다.\n",
    "- 모델에 학습에 사용할 데이터로 학습 데이터 셋(Train)을 지정한다.\n",
    "- Epochs 학습횟수 지정\n",
    "- verbose의 세가지 옵션(0: 과정 생략, 1: 과정 보기, 2:횟수와 loss만 확인), default = 1"
   ]
  },
  {
   "cell_type": "code",
   "execution_count": 30,
   "metadata": {
    "colab": {
     "base_uri": "https://localhost:8080/",
     "height": 7235
    },
    "colab_type": "code",
    "executionInfo": {
     "elapsed": 4169,
     "status": "ok",
     "timestamp": 1545966040812,
     "user": {
      "displayName": "윤경구",
      "photoUrl": "",
      "userId": "01938000542747719628"
     },
     "user_tz": -540
    },
    "id": "FwdyUWTuPwPR",
    "outputId": "ff3a365e-9f47-4d00-d5c5-6676911eb3ce"
   },
   "outputs": [
    {
     "name": "stdout",
     "output_type": "stream",
     "text": [
      "Epoch 1/200\n",
      "1/1 [==============================] - 0s 349ms/step - loss: 1.9841 - acc: 0.1429\n",
      "Epoch 2/200\n",
      "1/1 [==============================] - 0s 12ms/step - loss: 1.9825 - acc: 0.1429\n",
      "Epoch 3/200\n",
      "1/1 [==============================] - 0s 10ms/step - loss: 1.9806 - acc: 0.1429\n",
      "Epoch 4/200\n",
      "1/1 [==============================] - 0s 9ms/step - loss: 1.9787 - acc: 0.1429\n",
      "Epoch 5/200\n",
      "1/1 [==============================] - 0s 9ms/step - loss: 1.9767 - acc: 0.1429\n",
      "Epoch 6/200\n",
      "1/1 [==============================] - 0s 9ms/step - loss: 1.9746 - acc: 0.1429\n",
      "Epoch 7/200\n",
      "1/1 [==============================] - 0s 10ms/step - loss: 1.9726 - acc: 0.1429\n",
      "Epoch 8/200\n",
      "1/1 [==============================] - 0s 9ms/step - loss: 1.9705 - acc: 0.1429\n",
      "Epoch 9/200\n",
      "1/1 [==============================] - 0s 9ms/step - loss: 1.9684 - acc: 0.1429\n",
      "Epoch 10/200\n",
      "1/1 [==============================] - 0s 9ms/step - loss: 1.9663 - acc: 0.2857\n",
      "Epoch 11/200\n",
      "1/1 [==============================] - 0s 10ms/step - loss: 1.9643 - acc: 0.2857\n",
      "Epoch 12/200\n",
      "1/1 [==============================] - 0s 11ms/step - loss: 1.9622 - acc: 0.2857\n",
      "Epoch 13/200\n",
      "1/1 [==============================] - 0s 10ms/step - loss: 1.9601 - acc: 0.2857\n",
      "Epoch 14/200\n",
      "1/1 [==============================] - 0s 10ms/step - loss: 1.9580 - acc: 0.2857\n",
      "Epoch 15/200\n",
      "1/1 [==============================] - 0s 11ms/step - loss: 1.9559 - acc: 0.2857\n",
      "Epoch 16/200\n",
      "1/1 [==============================] - 0s 10ms/step - loss: 1.9538 - acc: 0.2857\n",
      "Epoch 17/200\n",
      "1/1 [==============================] - 0s 10ms/step - loss: 1.9517 - acc: 0.2857\n",
      "Epoch 18/200\n",
      "1/1 [==============================] - 0s 10ms/step - loss: 1.9497 - acc: 0.2857\n",
      "Epoch 19/200\n",
      "1/1 [==============================] - 0s 15ms/step - loss: 1.9476 - acc: 0.2857\n",
      "Epoch 20/200\n",
      "1/1 [==============================] - 0s 13ms/step - loss: 1.9455 - acc: 0.2857\n",
      "Epoch 21/200\n",
      "1/1 [==============================] - 0s 14ms/step - loss: 1.9434 - acc: 0.2857\n",
      "Epoch 22/200\n",
      "1/1 [==============================] - 0s 13ms/step - loss: 1.9413 - acc: 0.2857\n",
      "Epoch 23/200\n",
      "1/1 [==============================] - 0s 12ms/step - loss: 1.9392 - acc: 0.2857\n",
      "Epoch 24/200\n",
      "1/1 [==============================] - 0s 15ms/step - loss: 1.9371 - acc: 0.2857\n",
      "Epoch 25/200\n",
      "1/1 [==============================] - 0s 12ms/step - loss: 1.9350 - acc: 0.2857\n",
      "Epoch 26/200\n",
      "1/1 [==============================] - 0s 10ms/step - loss: 1.9329 - acc: 0.2857\n",
      "Epoch 27/200\n",
      "1/1 [==============================] - 0s 12ms/step - loss: 1.9308 - acc: 0.2857\n",
      "Epoch 28/200\n",
      "1/1 [==============================] - 0s 12ms/step - loss: 1.9287 - acc: 0.2857\n",
      "Epoch 29/200\n",
      "1/1 [==============================] - 0s 12ms/step - loss: 1.9266 - acc: 0.2857\n",
      "Epoch 30/200\n",
      "1/1 [==============================] - 0s 11ms/step - loss: 1.9245 - acc: 0.2857\n",
      "Epoch 31/200\n",
      "1/1 [==============================] - 0s 13ms/step - loss: 1.9224 - acc: 0.2857\n",
      "Epoch 32/200\n",
      "1/1 [==============================] - 0s 19ms/step - loss: 1.9202 - acc: 0.2857\n",
      "Epoch 33/200\n",
      "1/1 [==============================] - 0s 15ms/step - loss: 1.9181 - acc: 0.2857\n",
      "Epoch 34/200\n",
      "1/1 [==============================] - 0s 13ms/step - loss: 1.9159 - acc: 0.2857\n",
      "Epoch 35/200\n",
      "1/1 [==============================] - 0s 16ms/step - loss: 1.9138 - acc: 0.2857\n",
      "Epoch 36/200\n",
      "1/1 [==============================] - 0s 18ms/step - loss: 1.9116 - acc: 0.2857\n",
      "Epoch 37/200\n",
      "1/1 [==============================] - 0s 15ms/step - loss: 1.9094 - acc: 0.2857\n",
      "Epoch 38/200\n",
      "1/1 [==============================] - 0s 13ms/step - loss: 1.9072 - acc: 0.2857\n",
      "Epoch 39/200\n",
      "1/1 [==============================] - 0s 14ms/step - loss: 1.9050 - acc: 0.2857\n",
      "Epoch 40/200\n",
      "1/1 [==============================] - 0s 12ms/step - loss: 1.9028 - acc: 0.2857\n",
      "Epoch 41/200\n",
      "1/1 [==============================] - 0s 13ms/step - loss: 1.9006 - acc: 0.2857\n",
      "Epoch 42/200\n",
      "1/1 [==============================] - 0s 9ms/step - loss: 1.8984 - acc: 0.2857\n",
      "Epoch 43/200\n",
      "1/1 [==============================] - 0s 10ms/step - loss: 1.8961 - acc: 0.2857\n",
      "Epoch 44/200\n",
      "1/1 [==============================] - 0s 10ms/step - loss: 1.8938 - acc: 0.2857\n",
      "Epoch 45/200\n",
      "1/1 [==============================] - 0s 10ms/step - loss: 1.8915 - acc: 0.2857\n",
      "Epoch 46/200\n",
      "1/1 [==============================] - 0s 10ms/step - loss: 1.8892 - acc: 0.2857\n",
      "Epoch 47/200\n",
      "1/1 [==============================] - 0s 8ms/step - loss: 1.8869 - acc: 0.4286\n",
      "Epoch 48/200\n",
      "1/1 [==============================] - 0s 8ms/step - loss: 1.8846 - acc: 0.4286\n",
      "Epoch 49/200\n",
      "1/1 [==============================] - 0s 10ms/step - loss: 1.8822 - acc: 0.4286\n",
      "Epoch 50/200\n",
      "1/1 [==============================] - 0s 11ms/step - loss: 1.8798 - acc: 0.4286\n",
      "Epoch 51/200\n",
      "1/1 [==============================] - 0s 11ms/step - loss: 1.8774 - acc: 0.4286\n",
      "Epoch 52/200\n",
      "1/1 [==============================] - 0s 7ms/step - loss: 1.8750 - acc: 0.4286\n",
      "Epoch 53/200\n",
      "1/1 [==============================] - 0s 8ms/step - loss: 1.8726 - acc: 0.4286\n",
      "Epoch 54/200\n",
      "1/1 [==============================] - 0s 9ms/step - loss: 1.8702 - acc: 0.4286\n",
      "Epoch 55/200\n",
      "1/1 [==============================] - 0s 10ms/step - loss: 1.8677 - acc: 0.4286\n",
      "Epoch 56/200\n",
      "1/1 [==============================] - 0s 7ms/step - loss: 1.8652 - acc: 0.4286\n",
      "Epoch 57/200\n",
      "1/1 [==============================] - 0s 7ms/step - loss: 1.8627 - acc: 0.4286\n",
      "Epoch 58/200\n",
      "1/1 [==============================] - 0s 15ms/step - loss: 1.8602 - acc: 0.4286\n",
      "Epoch 59/200\n",
      "1/1 [==============================] - 0s 9ms/step - loss: 1.8576 - acc: 0.4286\n",
      "Epoch 60/200\n",
      "1/1 [==============================] - 0s 10ms/step - loss: 1.8550 - acc: 0.4286\n",
      "Epoch 61/200\n",
      "1/1 [==============================] - 0s 9ms/step - loss: 1.8525 - acc: 0.5714\n",
      "Epoch 62/200\n",
      "1/1 [==============================] - 0s 11ms/step - loss: 1.8499 - acc: 0.5714\n",
      "Epoch 63/200\n",
      "1/1 [==============================] - 0s 8ms/step - loss: 1.8472 - acc: 0.5714\n",
      "Epoch 64/200\n",
      "1/1 [==============================] - 0s 10ms/step - loss: 1.8446 - acc: 0.5714\n",
      "Epoch 65/200\n",
      "1/1 [==============================] - 0s 10ms/step - loss: 1.8419 - acc: 0.5714\n",
      "Epoch 66/200\n",
      "1/1 [==============================] - 0s 11ms/step - loss: 1.8393 - acc: 0.5714\n",
      "Epoch 67/200\n",
      "1/1 [==============================] - 0s 8ms/step - loss: 1.8366 - acc: 0.5714\n",
      "Epoch 68/200\n",
      "1/1 [==============================] - 0s 9ms/step - loss: 1.8339 - acc: 0.5714\n",
      "Epoch 69/200\n",
      "1/1 [==============================] - 0s 10ms/step - loss: 1.8311 - acc: 0.5714\n",
      "Epoch 70/200\n",
      "1/1 [==============================] - 0s 11ms/step - loss: 1.8284 - acc: 0.5714\n",
      "Epoch 71/200\n",
      "1/1 [==============================] - 0s 10ms/step - loss: 1.8256 - acc: 0.5714\n",
      "Epoch 72/200\n",
      "1/1 [==============================] - 0s 9ms/step - loss: 1.8229 - acc: 0.5714\n",
      "Epoch 73/200\n",
      "1/1 [==============================] - 0s 7ms/step - loss: 1.8201 - acc: 0.5714\n",
      "Epoch 74/200\n",
      "1/1 [==============================] - 0s 8ms/step - loss: 1.8173 - acc: 0.5714\n",
      "Epoch 75/200\n",
      "1/1 [==============================] - 0s 12ms/step - loss: 1.8144 - acc: 0.5714\n",
      "Epoch 76/200\n",
      "1/1 [==============================] - 0s 9ms/step - loss: 1.8116 - acc: 0.5714\n",
      "Epoch 77/200\n",
      "1/1 [==============================] - 0s 10ms/step - loss: 1.8087 - acc: 0.5714\n",
      "Epoch 78/200\n",
      "1/1 [==============================] - 0s 12ms/step - loss: 1.8059 - acc: 0.5714\n",
      "Epoch 79/200\n",
      "1/1 [==============================] - 0s 11ms/step - loss: 1.8030 - acc: 0.5714\n",
      "Epoch 80/200\n",
      "1/1 [==============================] - 0s 9ms/step - loss: 1.8001 - acc: 0.5714\n",
      "Epoch 81/200\n",
      "1/1 [==============================] - 0s 9ms/step - loss: 1.7972 - acc: 0.5714\n",
      "Epoch 82/200\n",
      "1/1 [==============================] - 0s 9ms/step - loss: 1.7943 - acc: 0.5714\n",
      "Epoch 83/200\n",
      "1/1 [==============================] - 0s 10ms/step - loss: 1.7913 - acc: 0.5714\n",
      "Epoch 84/200\n",
      "1/1 [==============================] - 0s 9ms/step - loss: 1.7884 - acc: 0.5714\n",
      "Epoch 85/200\n",
      "1/1 [==============================] - 0s 9ms/step - loss: 1.7854 - acc: 0.5714\n",
      "Epoch 86/200\n",
      "1/1 [==============================] - 0s 9ms/step - loss: 1.7825 - acc: 0.5714\n",
      "Epoch 87/200\n",
      "1/1 [==============================] - 0s 10ms/step - loss: 1.7795 - acc: 0.5714\n",
      "Epoch 88/200\n",
      "1/1 [==============================] - 0s 10ms/step - loss: 1.7765 - acc: 0.5714\n",
      "Epoch 89/200\n",
      "1/1 [==============================] - 0s 9ms/step - loss: 1.7735 - acc: 0.5714\n",
      "Epoch 90/200\n",
      "1/1 [==============================] - 0s 10ms/step - loss: 1.7704 - acc: 0.5714\n",
      "Epoch 91/200\n",
      "1/1 [==============================] - 0s 7ms/step - loss: 1.7674 - acc: 0.5714\n",
      "Epoch 92/200\n",
      "1/1 [==============================] - 0s 8ms/step - loss: 1.7644 - acc: 0.5714\n",
      "Epoch 93/200\n",
      "1/1 [==============================] - 0s 10ms/step - loss: 1.7613 - acc: 0.5714\n",
      "Epoch 94/200\n",
      "1/1 [==============================] - 0s 10ms/step - loss: 1.7582 - acc: 0.5714\n",
      "Epoch 95/200\n",
      "1/1 [==============================] - 0s 11ms/step - loss: 1.7551 - acc: 0.7143\n",
      "Epoch 96/200\n",
      "1/1 [==============================] - 0s 9ms/step - loss: 1.7520 - acc: 0.7143\n",
      "Epoch 97/200\n",
      "1/1 [==============================] - 0s 9ms/step - loss: 1.7489 - acc: 0.7143\n",
      "Epoch 98/200\n",
      "1/1 [==============================] - 0s 11ms/step - loss: 1.7458 - acc: 0.7143\n",
      "Epoch 99/200\n",
      "1/1 [==============================] - 0s 7ms/step - loss: 1.7427 - acc: 0.7143\n",
      "Epoch 100/200\n",
      "1/1 [==============================] - 0s 9ms/step - loss: 1.7395 - acc: 0.7143\n",
      "Epoch 101/200\n",
      "1/1 [==============================] - 0s 9ms/step - loss: 1.7364 - acc: 0.7143\n",
      "Epoch 102/200\n",
      "1/1 [==============================] - 0s 8ms/step - loss: 1.7332 - acc: 0.7143\n",
      "Epoch 103/200\n",
      "1/1 [==============================] - 0s 10ms/step - loss: 1.7300 - acc: 0.7143\n",
      "Epoch 104/200\n",
      "1/1 [==============================] - 0s 10ms/step - loss: 1.7268 - acc: 0.7143\n",
      "Epoch 105/200\n",
      "1/1 [==============================] - 0s 7ms/step - loss: 1.7236 - acc: 0.7143\n",
      "Epoch 106/200\n",
      "1/1 [==============================] - 0s 7ms/step - loss: 1.7204 - acc: 0.7143\n",
      "Epoch 107/200\n",
      "1/1 [==============================] - 0s 9ms/step - loss: 1.7172 - acc: 0.7143\n",
      "Epoch 108/200\n",
      "1/1 [==============================] - 0s 8ms/step - loss: 1.7140 - acc: 0.7143\n",
      "Epoch 109/200\n",
      "1/1 [==============================] - 0s 9ms/step - loss: 1.7107 - acc: 0.7143\n",
      "Epoch 110/200\n",
      "1/1 [==============================] - 0s 10ms/step - loss: 1.7074 - acc: 0.7143\n",
      "Epoch 111/200\n",
      "1/1 [==============================] - 0s 8ms/step - loss: 1.7042 - acc: 0.7143\n",
      "Epoch 112/200\n",
      "1/1 [==============================] - 0s 9ms/step - loss: 1.7009 - acc: 0.7143\n",
      "Epoch 113/200\n",
      "1/1 [==============================] - 0s 12ms/step - loss: 1.6976 - acc: 0.7143\n",
      "Epoch 114/200\n",
      "1/1 [==============================] - 0s 7ms/step - loss: 1.6943 - acc: 0.7143\n",
      "Epoch 115/200\n",
      "1/1 [==============================] - 0s 11ms/step - loss: 1.6910 - acc: 0.7143\n",
      "Epoch 116/200\n",
      "1/1 [==============================] - 0s 8ms/step - loss: 1.6877 - acc: 0.7143\n",
      "Epoch 117/200\n",
      "1/1 [==============================] - 0s 8ms/step - loss: 1.6843 - acc: 0.7143\n",
      "Epoch 118/200\n",
      "1/1 [==============================] - 0s 11ms/step - loss: 1.6810 - acc: 0.7143\n",
      "Epoch 119/200\n",
      "1/1 [==============================] - 0s 10ms/step - loss: 1.6776 - acc: 0.7143\n",
      "Epoch 120/200\n",
      "1/1 [==============================] - 0s 9ms/step - loss: 1.6742 - acc: 0.7143\n",
      "Epoch 121/200\n",
      "1/1 [==============================] - 0s 12ms/step - loss: 1.6709 - acc: 0.7143\n",
      "Epoch 122/200\n",
      "1/1 [==============================] - 0s 17ms/step - loss: 1.6675 - acc: 0.7143\n",
      "Epoch 123/200\n",
      "1/1 [==============================] - 0s 10ms/step - loss: 1.6641 - acc: 0.7143\n",
      "Epoch 124/200\n",
      "1/1 [==============================] - 0s 11ms/step - loss: 1.6607 - acc: 0.7143\n",
      "Epoch 125/200\n",
      "1/1 [==============================] - 0s 9ms/step - loss: 1.6573 - acc: 0.5714\n",
      "Epoch 126/200\n",
      "1/1 [==============================] - 0s 8ms/step - loss: 1.6538 - acc: 0.5714\n",
      "Epoch 127/200\n",
      "1/1 [==============================] - 0s 9ms/step - loss: 1.6504 - acc: 0.5714\n",
      "Epoch 128/200\n",
      "1/1 [==============================] - 0s 10ms/step - loss: 1.6470 - acc: 0.5714\n",
      "Epoch 129/200\n",
      "1/1 [==============================] - 0s 9ms/step - loss: 1.6435 - acc: 0.5714\n",
      "Epoch 130/200\n",
      "1/1 [==============================] - 0s 9ms/step - loss: 1.6400 - acc: 0.5714\n",
      "Epoch 131/200\n",
      "1/1 [==============================] - 0s 8ms/step - loss: 1.6366 - acc: 0.5714\n",
      "Epoch 132/200\n",
      "1/1 [==============================] - 0s 12ms/step - loss: 1.6331 - acc: 0.5714\n",
      "Epoch 133/200\n",
      "1/1 [==============================] - 0s 11ms/step - loss: 1.6296 - acc: 0.5714\n",
      "Epoch 134/200\n",
      "1/1 [==============================] - 0s 11ms/step - loss: 1.6261 - acc: 0.5714\n",
      "Epoch 135/200\n",
      "1/1 [==============================] - 0s 10ms/step - loss: 1.6226 - acc: 0.5714\n",
      "Epoch 136/200\n",
      "1/1 [==============================] - 0s 14ms/step - loss: 1.6191 - acc: 0.5714\n",
      "Epoch 137/200\n",
      "1/1 [==============================] - 0s 9ms/step - loss: 1.6156 - acc: 0.5714\n",
      "Epoch 138/200\n",
      "1/1 [==============================] - 0s 14ms/step - loss: 1.6121 - acc: 0.5714\n",
      "Epoch 139/200\n",
      "1/1 [==============================] - 0s 11ms/step - loss: 1.6086 - acc: 0.5714\n",
      "Epoch 140/200\n",
      "1/1 [==============================] - 0s 10ms/step - loss: 1.6051 - acc: 0.5714\n",
      "Epoch 141/200\n",
      "1/1 [==============================] - 0s 10ms/step - loss: 1.6015 - acc: 0.5714\n",
      "Epoch 142/200\n",
      "1/1 [==============================] - 0s 11ms/step - loss: 1.5980 - acc: 0.5714\n",
      "Epoch 143/200\n",
      "1/1 [==============================] - 0s 14ms/step - loss: 1.5945 - acc: 0.5714\n",
      "Epoch 144/200\n",
      "1/1 [==============================] - 0s 13ms/step - loss: 1.5909 - acc: 0.5714\n",
      "Epoch 145/200\n",
      "1/1 [==============================] - 0s 13ms/step - loss: 1.5874 - acc: 0.5714\n",
      "Epoch 146/200\n",
      "1/1 [==============================] - 0s 16ms/step - loss: 1.5838 - acc: 0.5714\n",
      "Epoch 147/200\n",
      "1/1 [==============================] - 0s 10ms/step - loss: 1.5803 - acc: 0.5714\n",
      "Epoch 148/200\n",
      "1/1 [==============================] - 0s 18ms/step - loss: 1.5767 - acc: 0.5714\n",
      "Epoch 149/200\n",
      "1/1 [==============================] - 0s 13ms/step - loss: 1.5731 - acc: 0.5714\n",
      "Epoch 150/200\n",
      "1/1 [==============================] - 0s 14ms/step - loss: 1.5696 - acc: 0.5714\n",
      "Epoch 151/200\n",
      "1/1 [==============================] - 0s 18ms/step - loss: 1.5660 - acc: 0.5714\n",
      "Epoch 152/200\n",
      "1/1 [==============================] - 0s 10ms/step - loss: 1.5624 - acc: 0.5714\n",
      "Epoch 153/200\n",
      "1/1 [==============================] - 0s 13ms/step - loss: 1.5589 - acc: 0.5714\n",
      "Epoch 154/200\n",
      "1/1 [==============================] - 0s 13ms/step - loss: 1.5553 - acc: 0.5714\n",
      "Epoch 155/200\n",
      "1/1 [==============================] - 0s 10ms/step - loss: 1.5517 - acc: 0.5714\n",
      "Epoch 156/200\n",
      "1/1 [==============================] - 0s 15ms/step - loss: 1.5481 - acc: 0.5714\n",
      "Epoch 157/200\n",
      "1/1 [==============================] - 0s 8ms/step - loss: 1.5445 - acc: 0.5714\n",
      "Epoch 158/200\n",
      "1/1 [==============================] - 0s 13ms/step - loss: 1.5410 - acc: 0.5714\n",
      "Epoch 159/200\n",
      "1/1 [==============================] - 0s 12ms/step - loss: 1.5374 - acc: 0.5714\n",
      "Epoch 160/200\n",
      "1/1 [==============================] - 0s 12ms/step - loss: 1.5338 - acc: 0.5714\n",
      "Epoch 161/200\n",
      "1/1 [==============================] - 0s 12ms/step - loss: 1.5302 - acc: 0.5714\n",
      "Epoch 162/200\n",
      "1/1 [==============================] - 0s 13ms/step - loss: 1.5266 - acc: 0.5714\n",
      "Epoch 163/200\n",
      "1/1 [==============================] - 0s 13ms/step - loss: 1.5230 - acc: 0.5714\n",
      "Epoch 164/200\n",
      "1/1 [==============================] - 0s 13ms/step - loss: 1.5195 - acc: 0.5714\n",
      "Epoch 165/200\n",
      "1/1 [==============================] - 0s 10ms/step - loss: 1.5159 - acc: 0.5714\n",
      "Epoch 166/200\n",
      "1/1 [==============================] - 0s 13ms/step - loss: 1.5123 - acc: 0.5714\n",
      "Epoch 167/200\n",
      "1/1 [==============================] - 0s 13ms/step - loss: 1.5087 - acc: 0.5714\n",
      "Epoch 168/200\n",
      "1/1 [==============================] - 0s 16ms/step - loss: 1.5051 - acc: 0.5714\n",
      "Epoch 169/200\n",
      "1/1 [==============================] - 0s 11ms/step - loss: 1.5015 - acc: 0.5714\n",
      "Epoch 170/200\n",
      "1/1 [==============================] - 0s 11ms/step - loss: 1.4979 - acc: 0.5714\n",
      "Epoch 171/200\n",
      "1/1 [==============================] - 0s 15ms/step - loss: 1.4944 - acc: 0.5714\n",
      "Epoch 172/200\n",
      "1/1 [==============================] - 0s 13ms/step - loss: 1.4908 - acc: 0.5714\n",
      "Epoch 173/200\n",
      "1/1 [==============================] - 0s 10ms/step - loss: 1.4872 - acc: 0.5714\n",
      "Epoch 174/200\n",
      "1/1 [==============================] - 0s 13ms/step - loss: 1.4836 - acc: 0.5714\n",
      "Epoch 175/200\n",
      "1/1 [==============================] - 0s 10ms/step - loss: 1.4800 - acc: 0.5714\n",
      "Epoch 176/200\n",
      "1/1 [==============================] - 0s 12ms/step - loss: 1.4764 - acc: 0.5714\n",
      "Epoch 177/200\n",
      "1/1 [==============================] - 0s 12ms/step - loss: 1.4728 - acc: 0.5714\n",
      "Epoch 178/200\n",
      "1/1 [==============================] - 0s 12ms/step - loss: 1.4693 - acc: 0.5714\n",
      "Epoch 179/200\n",
      "1/1 [==============================] - 0s 11ms/step - loss: 1.4657 - acc: 0.5714\n",
      "Epoch 180/200\n",
      "1/1 [==============================] - 0s 13ms/step - loss: 1.4621 - acc: 0.5714\n",
      "Epoch 181/200\n",
      "1/1 [==============================] - 0s 13ms/step - loss: 1.4585 - acc: 0.5714\n",
      "Epoch 182/200\n",
      "1/1 [==============================] - 0s 12ms/step - loss: 1.4549 - acc: 0.5714\n",
      "Epoch 183/200\n",
      "1/1 [==============================] - 0s 12ms/step - loss: 1.4513 - acc: 0.5714\n",
      "Epoch 184/200\n",
      "1/1 [==============================] - 0s 12ms/step - loss: 1.4478 - acc: 0.5714\n",
      "Epoch 185/200\n",
      "1/1 [==============================] - 0s 12ms/step - loss: 1.4442 - acc: 0.5714\n",
      "Epoch 186/200\n",
      "1/1 [==============================] - 0s 12ms/step - loss: 1.4406 - acc: 0.5714\n",
      "Epoch 187/200\n",
      "1/1 [==============================] - 0s 14ms/step - loss: 1.4370 - acc: 0.5714\n",
      "Epoch 188/200\n",
      "1/1 [==============================] - 0s 13ms/step - loss: 1.4334 - acc: 0.5714\n",
      "Epoch 189/200\n",
      "1/1 [==============================] - 0s 14ms/step - loss: 1.4298 - acc: 0.5714\n",
      "Epoch 190/200\n",
      "1/1 [==============================] - 0s 10ms/step - loss: 1.4262 - acc: 0.5714\n",
      "Epoch 191/200\n",
      "1/1 [==============================] - 0s 13ms/step - loss: 1.4227 - acc: 0.5714\n",
      "Epoch 192/200\n",
      "1/1 [==============================] - 0s 12ms/step - loss: 1.4191 - acc: 0.5714\n",
      "Epoch 193/200\n",
      "1/1 [==============================] - 0s 13ms/step - loss: 1.4155 - acc: 0.5714\n",
      "Epoch 194/200\n",
      "1/1 [==============================] - 0s 14ms/step - loss: 1.4119 - acc: 0.5714\n",
      "Epoch 195/200\n",
      "1/1 [==============================] - 0s 13ms/step - loss: 1.4083 - acc: 0.5714\n",
      "Epoch 196/200\n",
      "1/1 [==============================] - 0s 18ms/step - loss: 1.4047 - acc: 0.5714\n",
      "Epoch 197/200\n",
      "1/1 [==============================] - 0s 13ms/step - loss: 1.4011 - acc: 0.5714\n",
      "Epoch 198/200\n",
      "1/1 [==============================] - 0s 12ms/step - loss: 1.3975 - acc: 0.5714\n",
      "Epoch 199/200\n",
      "1/1 [==============================] - 0s 12ms/step - loss: 1.3939 - acc: 0.5714\n",
      "Epoch 200/200\n",
      "1/1 [==============================] - 0s 12ms/step - loss: 1.3903 - acc: 0.5714\n"
     ]
    },
    {
     "data": {
      "text/plain": [
       "<keras.callbacks.History at 0x7fc9f1dc7438>"
      ]
     },
     "execution_count": 30,
     "metadata": {
      "tags": []
     },
     "output_type": "execute_result"
    }
   ],
   "source": [
    "# 모델 트레이닝\n",
    "model.fit(x, y, epochs=200)"
   ]
  },
  {
   "cell_type": "markdown",
   "metadata": {
    "colab_type": "text",
    "id": "MdFSbNdvQKxI"
   },
   "source": [
    "#### 6) 모델 TEST"
   ]
  },
  {
   "cell_type": "code",
   "execution_count": 31,
   "metadata": {
    "colab": {
     "base_uri": "https://localhost:8080/",
     "height": 359
    },
    "colab_type": "code",
    "executionInfo": {
     "elapsed": 1453,
     "status": "ok",
     "timestamp": 1545966101286,
     "user": {
      "displayName": "윤경구",
      "photoUrl": "",
      "userId": "01938000542747719628"
     },
     "user_tz": -540
    },
    "id": "Qq9WCA0MQAfB",
    "outputId": "f84ca80d-127e-4e55-b446-7aea57ba344c"
   },
   "outputs": [
    {
     "name": "stdout",
     "output_type": "stream",
     "text": [
      "예측값\n",
      "  [[0.1217448  0.17263614 0.24521406 0.07583506 0.09323186 0.08639602\n",
      "  0.20494208]\n",
      " [0.1384086  0.20301028 0.1486073  0.07572684 0.08924703 0.05300216\n",
      "  0.29199782]\n",
      " [0.15156421 0.20145707 0.06757811 0.1136449  0.11829535 0.04544947\n",
      "  0.30201092]\n",
      " [0.18832026 0.1489601  0.03386522 0.1616846  0.12250967 0.02916204\n",
      "  0.31549808]\n",
      " [0.18204334 0.11149957 0.0189054  0.24916132 0.15625322 0.03067248\n",
      "  0.2514647 ]\n",
      " [0.19617112 0.08304144 0.0274256  0.2129679  0.17946151 0.02172938\n",
      "  0.27920306]\n",
      " [0.13116592 0.07546454 0.02713456 0.23832674 0.32197857 0.03933125\n",
      "  0.1665984 ]]\n",
      "입력\n",
      "[5 2 6 1 0 3 6] iloveyo\n",
      "예측\n",
      "[2 6 6 6 6 6 4] looooou\n"
     ]
    }
   ],
   "source": [
    "predictions = model.predict(x, verbose=0)\n",
    "for i, prediction in enumerate(predictions):\n",
    "    print('예측값\\n ', prediction)\n",
    "    \n",
    "    x_index = np.argmax(x[i], axis=1)\n",
    "    x_str = [char_set[j] for j in x_index]\n",
    "    print('입력')\n",
    "    print(x_index, ''.join(x_str))\n",
    "\n",
    "    index = np.argmax(prediction, axis=1)\n",
    "    result = [char_set[j] for j in index]\n",
    "    print('예측')\n",
    "    print(index, ''.join(result))"
   ]
  },
  {
   "cell_type": "markdown",
   "metadata": {
    "colab_type": "text",
    "id": "P0CQCITPQZi5"
   },
   "source": [
    "## 3. 시계열데이터 single time point 예측 실습"
   ]
  },
  {
   "cell_type": "markdown",
   "metadata": {
    "colab_type": "text",
    "id": "VMkhwMeGrxEk"
   },
   "source": [
    "### (1) 전체 학습코드"
   ]
  },
  {
   "cell_type": "code",
   "execution_count": 0,
   "metadata": {
    "colab": {
     "base_uri": "https://localhost:8080/",
     "height": 1719
    },
    "colab_type": "code",
    "executionInfo": {
     "elapsed": 63825,
     "status": "ok",
     "timestamp": 1545823418123,
     "user": {
      "displayName": "윤경구",
      "photoUrl": "",
      "userId": "01938000542747719628"
     },
     "user_tz": -540
    },
    "id": "HuiOg3YfDebC",
    "outputId": "9dd32697-e793-4cd6-e244-98c4f18de890"
   },
   "outputs": [
    {
     "data": {
      "image/png": "[encoded data removed]",
      "text/plain": [
       "<matplotlib.figure.Figure at 0x7fa17e490ef0>"
      ]
     },
     "metadata": {
      "tags": []
     },
     "output_type": "display_data"
    },
    {
     "name": "stdout",
     "output_type": "stream",
     "text": [
      "_________________________________________________________________\n",
      "Layer (type)                 Output Shape              Param #   \n",
      "=================================================================\n",
      "cu_dnnlstm_3 (CuDNNLSTM)     (None, 32)                4480      \n",
      "_________________________________________________________________\n",
      "dropout_1 (Dropout)          (None, 32)                0         \n",
      "_________________________________________________________________\n",
      "dense_4 (Dense)              (None, 1)                 33        \n",
      "=================================================================\n",
      "Total params: 4,513\n",
      "Trainable params: 4,513\n",
      "Non-trainable params: 0\n",
      "_________________________________________________________________\n"
     ]
    },
    {
     "data": {
      "image/png": "[encoded data removed]",
      "text/plain": [
       "<matplotlib.figure.Figure at 0x7fa110b76fd0>"
      ]
     },
     "metadata": {
      "tags": []
     },
     "output_type": "display_data"
    },
    {
     "name": "stdout",
     "output_type": "stream",
     "text": [
      "Train Loss:  0.0002527112313867386\n",
      "Validataion Loss:  0.00022925082362403542\n",
      "Test Loss:  0.00022925082362403542\n"
     ]
    },
    {
     "data": {
      "image/png": "[encoded data removed]",
      "text/plain": [
       "<matplotlib.figure.Figure at 0x7fa110701da0>"
      ]
     },
     "metadata": {
      "tags": []
     },
     "output_type": "display_data"
    }
   ],
   "source": [
    "# 1. 필요한 라이브러리 import\n",
    "import numpy as np\n",
    "from keras.models import Sequential\n",
    "from keras.layers import Dense, CuDNNLSTM, Dropout\n",
    "from sklearn.preprocessing import MinMaxScaler\n",
    "import matplotlib.pyplot as plt\n",
    "%matplotlib inline\n",
    "\n",
    "# 2. 하이퍼 파라메터 설정\n",
    "training_cnt = 100\n",
    "batch_size = 32\n",
    "num_classes = 1\n",
    "time_shift = 30 # 30개의 연속된 값을 입력으로 하여 31번째 값을 추정\n",
    "\n",
    "\n",
    "# 3. 데이터셋 생성\n",
    "# sin 데이터 생성\n",
    "sin_data = np.sin(np.arange(1500)*(2*np.pi*0.01))[:,None]\n",
    "\n",
    "# 데이터 전처리\n",
    "scaler = MinMaxScaler(feature_range=(0.5, 1.5))\n",
    "sin_data = scaler.fit_transform(sin_data)\n",
    "\n",
    "# 데이터 분리(training, validation, test)\n",
    "train = sin_data[0:900]\n",
    "val = sin_data[900:1200]\n",
    "test = sin_data[1200:]\n",
    "\n",
    "# 데이터셋 생성함수 \n",
    "def create_dataset(sin_data, time_shift=1):\n",
    "    dataX, dataY = [], []\n",
    "    for i in range(len(sin_data)-time_shift):\n",
    "        dataX.append(sin_data[i:(i+time_shift), 0])\n",
    "        dataY.append(sin_data[i + time_shift, 0])\n",
    "    return np.array(dataX), np.array(dataY)\n",
    "\n",
    "# create 데이터셋\n",
    "x_train, y_train = create_dataset(train, time_shift)\n",
    "x_val, y_val = create_dataset(val, time_shift)\n",
    "x_test, y_test = create_dataset(test, time_shift)\n",
    "\n",
    "# RNN with Keras 학습을 위한 데이터셋 reshape\n",
    "x_train = np.reshape(x_train, (x_train.shape[0], x_train.shape[1], 1))\n",
    "x_val = np.reshape(x_val, (x_val.shape[0], x_val.shape[1], 1))\n",
    "x_test = np.reshape(x_test, (x_test.shape[0], x_test.shape[1], 1))\n",
    "\n",
    "# traing data 확인\n",
    "plt.figure(figsize=(15, 10),frameon=False)    \n",
    "\n",
    "# 첫번째 input sample 30개(0~29), output sample 1개(31번째 output)\n",
    "i= 0  \n",
    "plt.subplot(311)\n",
    "plt.plot(np.arange(0,100),train[0:100])\n",
    "plt.plot(np.arange(i, time_shift + i ), x_train[i], 'ro')\n",
    "plt.plot(time_shift + i,y_train[i], 'g^')\n",
    "plt.legend(['whole data','input','output'], loc='upper left')\n",
    "plt.title(\"1st train sample & predict value\" )\n",
    "\n",
    "# 11번째 input sampe 30개(10~39), output sample 1개(41번째 output)\n",
    "i= 10\n",
    "plt.subplot(312)\n",
    "plt.plot(np.arange(0,100),train[0:100])\n",
    "plt.plot(np.arange(i, time_shift + i), x_train[i], 'ro')\n",
    "plt.plot(time_shift + i,y_train[i], 'g^')\n",
    "plt.legend(['whole data','input','output'], loc='upper left')\n",
    "plt.title(\"11th train sample & predict value\" )\n",
    "\n",
    "# 41번째 input sampe 30개(40~69), output sample 1개(71번째 output)\n",
    "i= 40\n",
    "plt.subplot(313)\n",
    "plt.plot(np.arange(0,100),train[0:100])\n",
    "plt.plot(np.arange(i, time_shift + i), x_train[i], 'ro')\n",
    "plt.plot(time_shift + i,y_train[i], 'g^')\n",
    "plt.legend(['whole data','input','output'], loc='upper left')\n",
    "plt.title(\"41st train sample & predict value\" )\n",
    "\n",
    "plt.show()\n",
    "\n",
    "# 4. 신경망 정의\n",
    "model = Sequential()\n",
    "model.add(CuDNNLSTM(32, input_shape=(None, 1)))\n",
    "model.add(Dropout(0.3))\n",
    "model.add(Dense(num_classes))\n",
    "model.summary()\n",
    "\n",
    "# 5. 모델 학습과정 설정\n",
    "model.compile(loss='mean_squared_error', optimizer='adam')\n",
    "\n",
    "# 6. 모델 학습\n",
    "hist = model.fit(x_train, y_train, epochs=training_cnt, batch_size=batch_size, \n",
    "                 validation_data=(x_val, y_val),verbose=0)\n",
    "\n",
    "# 학습과정 Loss\n",
    "plt.plot(hist.history['loss'])\n",
    "plt.plot(hist.history['val_loss'])\n",
    "plt.ylim(0.0, 0.1)\n",
    "plt.ylabel('loss')\n",
    "plt.xlabel('epoch')\n",
    "plt.legend(['train', 'val'], loc='upper right')\n",
    "plt.show()\n",
    "\n",
    "# 8. 모델 평가\n",
    "trainLoss = model.evaluate(x_train, y_train, verbose=0)\n",
    "model.reset_states()\n",
    "print('Train Loss: ', trainLoss)\n",
    "valLoss = model.evaluate(x_val, y_val, verbose=0)\n",
    "model.reset_states()\n",
    "print('Validataion Loss: ', valLoss)\n",
    "testLoss = model.evaluate(x_test, y_test, verbose=0)\n",
    "model.reset_states()\n",
    "print('Test Loss: ', testLoss)\n",
    "\n",
    "# 9. 예측모델 비교\n",
    "time_ahead = 200\n",
    "predictions = np.zeros((time_ahead,1))\n",
    "for i in range(time_ahead):\n",
    "    prediction = model.predict(np.array([x_test[i]]))\n",
    "    predictions[i] = prediction\n",
    "    \n",
    "plt.figure(figsize=(15,10))\n",
    "plt.plot(np.arange(time_ahead),predictions,'r',label=\"prediction\")\n",
    "plt.plot(np.arange(time_ahead),y_test[:time_ahead],label=\"test function\")\n",
    "plt.legend()\n",
    "plt.show()"
   ]
  },
  {
   "cell_type": "markdown",
   "metadata": {
    "colab_type": "text",
    "id": "WKa69XKowMdR"
   },
   "source": [
    "#### 1) 필요한 라이브러리 import\n",
    "- np : data처리를 위한 numpy 모듈을 불러온다.\n",
    "- Sequential : 순차형 모델 생성에 필요한 모듈\n",
    "- Dense : 입출력 연결\n",
    "- CuDNNLSTM : GPU사용 LSTM 모델\n",
    "- Dropout : Dropout 모듈\n",
    "- MinMaxScaler : 데이터 최소 최대 지정값으로 전처리 \n",
    "- pyplot : 그래프 구현\n",
    "- % matplotlib inline : 현재 jupyter notebook 실행 브라우저에서 그림 보여줌"
   ]
  },
  {
   "cell_type": "code",
   "execution_count": 0,
   "metadata": {
    "colab": {},
    "colab_type": "code",
    "id": "eN5ft93Ix9Hu"
   },
   "outputs": [],
   "source": [
    "# 1. 필요한 라이브러리 import\n",
    "import numpy as np\n",
    "from keras.models import Sequential\n",
    "from keras.layers import Dense, CuDNNLSTM, Dropout\n",
    "from sklearn.preprocessing import MinMaxScaler\n",
    "import matplotlib.pyplot as plt\n",
    "%matplotlib inline"
   ]
  },
  {
   "cell_type": "markdown",
   "metadata": {
    "colab_type": "text",
    "id": "eTWH0Jm4wMx_"
   },
   "source": [
    "#### 2) 하이퍼 파라메터 설정"
   ]
  },
  {
   "cell_type": "code",
   "execution_count": 0,
   "metadata": {
    "colab": {},
    "colab_type": "code",
    "id": "BTBQa5H2wM8W"
   },
   "outputs": [],
   "source": [
    "# 2. 하이퍼 파라메터 설정\n",
    "training_cnt = 100  # 학습횟수\n",
    "batch_size = 32     # 처리할 데이터의 수\n",
    "num_classes = 1     # 출력 class\n",
    "time_shift = 30     # data 30개 단위로 shift"
   ]
  },
  {
   "cell_type": "markdown",
   "metadata": {
    "colab_type": "text",
    "id": "_42vh8aIwNEs"
   },
   "source": [
    "#### 3) 데이터셋 생성"
   ]
  },
  {
   "cell_type": "code",
   "execution_count": 0,
   "metadata": {
    "colab": {},
    "colab_type": "code",
    "id": "o9aZv9qk1PLC"
   },
   "outputs": [],
   "source": [
    "# sin 데이터 생성\n",
    "sin_data = np.sin(np.arange(1500)*(2*np.pi*0.01))[:,None]"
   ]
  },
  {
   "cell_type": "code",
   "execution_count": 0,
   "metadata": {
    "colab": {},
    "colab_type": "code",
    "id": "wtbPyBLj1RM3"
   },
   "outputs": [],
   "source": [
    "# 데이터 전처리\n",
    "scaler = MinMaxScaler(feature_range=(0.5, 1.5)) # 0.5~1.5 사이로 scale\n",
    "sin_data = scaler.fit_transform(sin_data)"
   ]
  },
  {
   "cell_type": "code",
   "execution_count": 0,
   "metadata": {
    "colab": {},
    "colab_type": "code",
    "id": "4w7wasEw1YqW"
   },
   "outputs": [],
   "source": [
    "# 데이터 분리\n",
    "train = sin_data[0:900]   # training data\n",
    "val = sin_data[900:1200]  # validation data\n",
    "test = sin_data[1200:]    # test data "
   ]
  },
  {
   "cell_type": "markdown",
   "metadata": {
    "colab_type": "text",
    "id": "ZSYFT1Y71xNm"
   },
   "source": [
    "- sin data 받아 30개씩 shift된 데이터 형태의 input data와 input data 바로 다음의 출력데이터를 만드는 함수"
   ]
  },
  {
   "cell_type": "code",
   "execution_count": 0,
   "metadata": {
    "colab": {},
    "colab_type": "code",
    "id": "-mdFKPjK1qtP"
   },
   "outputs": [],
   "source": [
    "# 데이터셋 생성함수 \n",
    "def create_dataset(sin_data, time_shift=1):\n",
    "    dataX, dataY = [], []\n",
    "    for i in range(len(sin_data)-time_shift):\n",
    "        dataX.append(sin_data[i:(i+time_shift), 0])\n",
    "        dataY.append(sin_data[i + time_shift, 0])\n",
    "    return np.array(dataX), np.array(dataY)"
   ]
  },
  {
   "cell_type": "code",
   "execution_count": 0,
   "metadata": {
    "colab": {},
    "colab_type": "code",
    "id": "oFImrZMP2Ib3"
   },
   "outputs": [],
   "source": [
    "# create 데이터셋\n",
    "x_train, y_train = create_dataset(train, time_shift)\n",
    "x_val, y_val = create_dataset(val, time_shift)\n",
    "x_test, y_test = create_dataset(test, time_shift)"
   ]
  },
  {
   "cell_type": "markdown",
   "metadata": {
    "colab_type": "text",
    "id": "yqXdIpV22OvG"
   },
   "source": [
    "- Keras RNN 모델은 입력은 ndim=3인 3차원 tensor 형태의 데이터(자료의수, 순서열의길이, x벡터의 크기)이어야 한다"
   ]
  },
  {
   "cell_type": "code",
   "execution_count": 41,
   "metadata": {
    "colab": {
     "base_uri": "https://localhost:8080/",
     "height": 35
    },
    "colab_type": "code",
    "executionInfo": {
     "elapsed": 1432,
     "status": "ok",
     "timestamp": 1545966986131,
     "user": {
      "displayName": "윤경구",
      "photoUrl": "",
      "userId": "01938000542747719628"
     },
     "user_tz": -540
    },
    "id": "4v3-4TMm2p4e",
    "outputId": "48eec803-4628-4cf2-e42e-f9204fc8ad24"
   },
   "outputs": [
    {
     "name": "stdout",
     "output_type": "stream",
     "text": [
      "(870, 30)\n"
     ]
    }
   ],
   "source": [
    "print(x_train.shape)"
   ]
  },
  {
   "cell_type": "code",
   "execution_count": 0,
   "metadata": {
    "colab": {},
    "colab_type": "code",
    "id": "VMDp0uqv2Mwm"
   },
   "outputs": [],
   "source": [
    "# RNN with Keras 학습을 위한 데이터셋 reshape\n",
    "x_train = np.reshape(x_train, (x_train.shape[0], x_train.shape[1], 1))\n",
    "x_val = np.reshape(x_val, (x_val.shape[0], x_val.shape[1], 1))\n",
    "x_test = np.reshape(x_test, (x_test.shape[0], x_test.shape[1], 1))"
   ]
  },
  {
   "cell_type": "code",
   "execution_count": 43,
   "metadata": {
    "colab": {
     "base_uri": "https://localhost:8080/",
     "height": 71
    },
    "colab_type": "code",
    "executionInfo": {
     "elapsed": 872,
     "status": "ok",
     "timestamp": 1545967029895,
     "user": {
      "displayName": "윤경구",
      "photoUrl": "",
      "userId": "01938000542747719628"
     },
     "user_tz": -540
    },
    "id": "E3vuCKC60HNo",
    "outputId": "1ca93940-4418-4115-9fd5-128c13463b20"
   },
   "outputs": [
    {
     "name": "stdout",
     "output_type": "stream",
     "text": [
      "(870, 30, 1)\n",
      "(270, 30, 1)\n",
      "(270, 30, 1)\n"
     ]
    }
   ],
   "source": [
    "print(x_train.shape)\n",
    "print(x_val.shape)\n",
    "print(x_test.shape)"
   ]
  },
  {
   "cell_type": "markdown",
   "metadata": {
    "colab_type": "text",
    "id": "Q_oISt_w2OQW"
   },
   "source": [
    "- matplotlib을 활용하여 inputdata와 output 데이터 나타내기"
   ]
  },
  {
   "cell_type": "code",
   "execution_count": 44,
   "metadata": {
    "colab": {
     "base_uri": "https://localhost:8080/",
     "height": 606
    },
    "colab_type": "code",
    "executionInfo": {
     "elapsed": 1693,
     "status": "ok",
     "timestamp": 1545967076730,
     "user": {
      "displayName": "윤경구",
      "photoUrl": "",
      "userId": "01938000542747719628"
     },
     "user_tz": -540
    },
    "id": "PdjE-Hos26b9",
    "outputId": "cf6f9c08-e858-428b-a2cb-cfa0066e2227"
   },
   "outputs": [
    {
     "data": {
      "image/png": "[encoded data removed]",
      "text/plain": [
       "<matplotlib.figure.Figure at 0x7fc9f1792be0>"
      ]
     },
     "metadata": {
      "tags": []
     },
     "output_type": "display_data"
    }
   ],
   "source": [
    "# traing data 확인\n",
    "plt.figure(figsize=(15, 10),frameon=False)    \n",
    "\n",
    "# 첫번째 input sampe 30개(0~29), output sample 1개(31번째 output)\n",
    "i= 0  \n",
    "plt.subplot(311)\n",
    "plt.plot(np.arange(0,100),train[0:100])\n",
    "plt.plot(np.arange(i, time_shift + i ), x_train[i], 'ro')\n",
    "plt.plot(time_shift + i,y_train[i], 'g^')\n",
    "plt.legend(['whole data','input','output'], loc='upper left')\n",
    "plt.title(\"1st train sample & predict value\" )\n",
    "\n",
    "# 11번째 input sampe 30개(10~39), output sample 1개(41번째 output)\n",
    "i= 10\n",
    "plt.subplot(312)\n",
    "plt.plot(np.arange(0,100),train[0:100])\n",
    "plt.plot(np.arange(i, time_shift + i), x_train[i], 'ro')\n",
    "plt.plot(time_shift + i,y_train[i], 'g^')\n",
    "plt.legend(['whole data','input','output'], loc='upper left')\n",
    "plt.title(\"11th train sample & predict value\" )\n",
    "\n",
    "# 41번째 input sampe 30개(40~69), output sample 1개(71번째 output)\n",
    "i= 40\n",
    "plt.subplot(313)\n",
    "plt.plot(np.arange(0,100),train[0:100])\n",
    "plt.plot(np.arange(i, time_shift + i), x_train[i], 'ro')\n",
    "plt.plot(time_shift + i,y_train[i], 'g^')\n",
    "plt.legend(['whole data','input','output'], loc='upper left')\n",
    "plt.title(\"41st train sample & predict value\" )\n",
    "\n",
    "plt.show()"
   ]
  },
  {
   "cell_type": "markdown",
   "metadata": {
    "colab_type": "text",
    "id": "kIN4x0KvAcgy"
   },
   "source": [
    "#### 4) 신경망 정의\n",
    "- 심층 신경망을 만들기위해 Sequential 객체인 model을 정의하고 층층이 쌓는다."
   ]
  },
  {
   "cell_type": "code",
   "execution_count": 45,
   "metadata": {
    "colab": {
     "base_uri": "https://localhost:8080/",
     "height": 251
    },
    "colab_type": "code",
    "executionInfo": {
     "elapsed": 1483,
     "status": "ok",
     "timestamp": 1545967214853,
     "user": {
      "displayName": "윤경구",
      "photoUrl": "",
      "userId": "01938000542747719628"
     },
     "user_tz": -540
    },
    "id": "NkT-X5D52_sP",
    "outputId": "82985d19-a6c6-4af6-b915-93b6c1b3531d"
   },
   "outputs": [
    {
     "name": "stdout",
     "output_type": "stream",
     "text": [
      "_________________________________________________________________\n",
      "Layer (type)                 Output Shape              Param #   \n",
      "=================================================================\n",
      "cu_dnnlstm_3 (CuDNNLSTM)     (None, 32)                4480      \n",
      "_________________________________________________________________\n",
      "dropout_1 (Dropout)          (None, 32)                0         \n",
      "_________________________________________________________________\n",
      "dense_3 (Dense)              (None, 1)                 33        \n",
      "=================================================================\n",
      "Total params: 4,513\n",
      "Trainable params: 4,513\n",
      "Non-trainable params: 0\n",
      "_________________________________________________________________\n"
     ]
    }
   ],
   "source": [
    "# 4. 신경망 정의\n",
    "model = Sequential()\n",
    "model.add(CuDNNLSTM(32, input_shape=(None, 1)))\n",
    "model.add(Dropout(0.3))  # 과적합 방지\n",
    "model.add(Dense(num_classes))\n",
    "model.summary()"
   ]
  },
  {
   "cell_type": "markdown",
   "metadata": {
    "colab_type": "text",
    "id": "dX385zb8Ax7J"
   },
   "source": [
    "#### 5) 모델 학습과정 설정\n",
    "- loss = mse 사용\n",
    "- optimizer = adam optimazer 사용"
   ]
  },
  {
   "cell_type": "code",
   "execution_count": 0,
   "metadata": {
    "colab": {},
    "colab_type": "code",
    "id": "ZFwpbQ3rA2-r"
   },
   "outputs": [],
   "source": [
    "# 5. 모델 학습과정 설정\n",
    "model.compile(loss='mean_squared_error', optimizer='adam')"
   ]
  },
  {
   "cell_type": "markdown",
   "metadata": {
    "colab_type": "text",
    "id": "8_MF8jlEA7Dm"
   },
   "source": [
    "#### 6) 모델학습\n",
    "- 미리 split 해둔 validataion data 사용"
   ]
  },
  {
   "cell_type": "code",
   "execution_count": 0,
   "metadata": {
    "colab": {},
    "colab_type": "code",
    "id": "7tQySJPWBK3o"
   },
   "outputs": [],
   "source": [
    "# 6. 모델 학습\n",
    "hist = model.fit(x_train, y_train, epochs=training_cnt, batch_size=batch_size, \n",
    "                 validation_data=(x_val, y_val),verbose=0)\n"
   ]
  },
  {
   "cell_type": "markdown",
   "metadata": {
    "colab_type": "text",
    "id": "Ol9tuI9hBsnY"
   },
   "source": [
    "- matplotlib을 사용하여 학습하면서 줄어드는 loss 나타내기"
   ]
  },
  {
   "cell_type": "code",
   "execution_count": 48,
   "metadata": {
    "colab": {
     "base_uri": "https://localhost:8080/",
     "height": 283
    },
    "colab_type": "code",
    "executionInfo": {
     "elapsed": 2393,
     "status": "ok",
     "timestamp": 1545967316637,
     "user": {
      "displayName": "윤경구",
      "photoUrl": "",
      "userId": "01938000542747719628"
     },
     "user_tz": -540
    },
    "id": "2cil0feFBfD-",
    "outputId": "af422c6e-2e15-4dac-a59a-4e2a1478f7eb"
   },
   "outputs": [
    {
     "data": {
      "image/png": "[encoded data removed]",
      "text/plain": [
       "<matplotlib.figure.Figure at 0x7fc9f17dcc88>"
      ]
     },
     "metadata": {
      "tags": []
     },
     "output_type": "display_data"
    }
   ],
   "source": [
    "# 학습과정 Loss\n",
    "plt.plot(hist.history['loss'])\n",
    "plt.plot(hist.history['val_loss'])\n",
    "plt.ylim(0.0, 0.1)\n",
    "plt.ylabel('loss')\n",
    "plt.xlabel('epoch')\n",
    "plt.legend(['train', 'val'], loc='upper right')\n",
    "plt.show()"
   ]
  },
  {
   "cell_type": "markdown",
   "metadata": {
    "colab_type": "text",
    "id": "se4bcOrhCRCf"
   },
   "source": [
    "#### 7) 모델평가\n",
    "- evaluate 사용하여 각각의 데이터셋의 loss 평가"
   ]
  },
  {
   "cell_type": "code",
   "execution_count": 49,
   "metadata": {
    "colab": {
     "base_uri": "https://localhost:8080/",
     "height": 71
    },
    "colab_type": "code",
    "executionInfo": {
     "elapsed": 897,
     "status": "ok",
     "timestamp": 1545967367784,
     "user": {
      "displayName": "윤경구",
      "photoUrl": "",
      "userId": "01938000542747719628"
     },
     "user_tz": -540
    },
    "id": "KtE35UsWCHqA",
    "outputId": "4bb220b6-4e43-47cf-b741-041d67eb9b0b"
   },
   "outputs": [
    {
     "name": "stdout",
     "output_type": "stream",
     "text": [
      "Train Loss:  0.0002920332811331248\n",
      "Validataion Loss:  0.00029442726734958815\n",
      "Test Loss:  0.00029442726734958815\n"
     ]
    }
   ],
   "source": [
    "# 7. 모델 평가\n",
    "trainLoss = model.evaluate(x_train, y_train, verbose=0)\n",
    "model.reset_states()\n",
    "print('Train Loss: ', trainLoss)\n",
    "valLoss = model.evaluate(x_val, y_val, verbose=0)\n",
    "model.reset_states()\n",
    "print('Validataion Loss: ', valLoss)\n",
    "testLoss = model.evaluate(x_test, y_test, verbose=0)\n",
    "model.reset_states()\n",
    "print('Test Loss: ', testLoss)"
   ]
  },
  {
   "cell_type": "markdown",
   "metadata": {
    "colab_type": "text",
    "id": "_7Q64d75C6en"
   },
   "source": [
    "#### 8) 예측모델 비교\n",
    "- 예측하여 만들어진 데이터와 실제데이터를 비교"
   ]
  },
  {
   "cell_type": "code",
   "execution_count": 50,
   "metadata": {
    "colab": {
     "base_uri": "https://localhost:8080/",
     "height": 592
    },
    "colab_type": "code",
    "executionInfo": {
     "elapsed": 2238,
     "status": "ok",
     "timestamp": 1545967414471,
     "user": {
      "displayName": "윤경구",
      "photoUrl": "",
      "userId": "01938000542747719628"
     },
     "user_tz": -540
    },
    "id": "yBuf4o_ACaqg",
    "outputId": "100a7917-c856-421c-8608-d74706dd3782"
   },
   "outputs": [
    {
     "data": {
      "image/png": "[encoded data removed]",
      "text/plain": [
       "<matplotlib.figure.Figure at 0x7fc9f1712d68>"
      ]
     },
     "metadata": {
      "tags": []
     },
     "output_type": "display_data"
    }
   ],
   "source": [
    "# 8. 예측모델 비교\n",
    "time_ahead = 200\n",
    "predictions = np.zeros((time_ahead,1))\n",
    "for i in range(time_ahead):\n",
    "    prediction = model.predict(np.array([x_test[i]]))\n",
    "    predictions[i] = prediction\n",
    "    \n",
    "plt.figure(figsize=(15,10))\n",
    "plt.plot(np.arange(time_ahead),predictions,'r',label=\"prediction\")\n",
    "plt.plot(np.arange(time_ahead),y_test[:time_ahead],label=\"test function\")\n",
    "plt.legend()\n",
    "plt.show()"
   ]
  },
  {
   "cell_type": "code",
   "execution_count": 0,
   "metadata": {
    "colab": {},
    "colab_type": "code",
    "id": "k8luYlgADFNA"
   },
   "outputs": [],
   "source": []
  }
 ],
 "metadata": {
  "accelerator": "GPU",
  "colab": {
   "collapsed_sections": [],
   "name": "24강 RNN 실습.ipynb",
   "provenance": [],
   "version": "0.3.2"
  },
  "kernelspec": {
   "display_name": "Python 3",
   "language": "python",
   "name": "python3"
  },
  "language_info": {
   "codemirror_mode": {
    "name": "ipython",
    "version": 3
   },
   "file_extension": ".py",
   "mimetype": "text/x-python",
   "name": "python",
   "nbconvert_exporter": "python",
   "pygments_lexer": "ipython3",
   "version": "3.7.0"
  }
 },
 "nbformat": 4,
 "nbformat_minor": 1
}
